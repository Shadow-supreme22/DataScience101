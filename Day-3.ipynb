{
 "cells": [
  {
   "cell_type": "markdown",
   "metadata": {},
   "source": [
    "# Assignment Day 3 | 11th November 2020\n",
    "                              Done By : Varinderjot Singh"
   ]
  },
  {
   "cell_type": "markdown",
   "metadata": {},
   "source": [
    "# Questions 1:\n",
    "Create a numpy array starting from 2 till 50 with a stepsize of 3."
   ]
  },
  {
   "cell_type": "code",
   "execution_count": 1,
   "metadata": {},
   "outputs": [],
   "source": [
    "import numpy as n"
   ]
  },
  {
   "cell_type": "code",
   "execution_count": 5,
   "metadata": {},
   "outputs": [
    {
     "name": "stdout",
     "output_type": "stream",
     "text": [
      "[ 2  5  8 11 14 17 20 23 26 29 32 35 38 41 44 47]\n"
     ]
    }
   ],
   "source": [
    "ans=n.arange(start=2,stop=50,step=3)\n",
    "print(ans)"
   ]
  },
  {
   "cell_type": "markdown",
   "metadata": {},
   "source": [
    "# Questions 2:\n",
    "Accept two lists of 5 elements each from the user.\n",
    "Convert them to numpy arrays. Concatenate these arrays and print it. Also sort these arrays and print it."
   ]
  },
  {
   "cell_type": "code",
   "execution_count": 24,
   "metadata": {},
   "outputs": [
    {
     "name": "stdout",
     "output_type": "stream",
     "text": [
      "Enter the list items : 2 4 56 23 5\n",
      "Enter the list items : 90 24 7 12 28\n",
      "[ 2  4 56 23  5 90 24  7 12 28]\n",
      "After Sorting:  [ 2  4  5  7 12 23 24 28 56 90]\n"
     ]
    }
   ],
   "source": [
    "lst1 = []   \n",
    "lst2 = []   \n",
    "  \n",
    "lst1 = [int(item) for item in input(\"Enter the list items : \").split()] \n",
    "  \n",
    "lst2 = [int(item) for item in input(\"Enter the list items : \").split()] \n",
    "  \n",
    "arr1 = n.array(lst1)\n",
    "arr2 = n.array(lst2)\n",
    "arr = n.concatenate((arr1, arr2))\n",
    "print(arr)\n",
    "print(\"After Sorting: \",n.sort(arr))"
   ]
  },
  {
   "cell_type": "markdown",
   "metadata": {},
   "source": [
    "# Questions 3:\n",
    "Write a code snippet to find the dimensions of a ndarray and its size."
   ]
  },
  {
   "cell_type": "code",
   "execution_count": 8,
   "metadata": {},
   "outputs": [
    {
     "name": "stdout",
     "output_type": "stream",
     "text": [
      "No. of dimensions:  2\n",
      "Size of array:  6\n"
     ]
    }
   ],
   "source": [
    "arr = n.array( [[ 1, 2, 3],\n",
    "                 [ 4, 2, 5]] )\n",
    "print(\"No. of dimensions: \", arr.ndim)\n",
    "print(\"Size of array: \", arr.size)"
   ]
  },
  {
   "cell_type": "markdown",
   "metadata": {},
   "source": [
    "# Questions 4:\n",
    "\n",
    "How to convert a 1D array into a 2D array? Demonstrate with the help of a code snippet\n",
    "Hint: np.newaxis, np.expand_dims"
   ]
  },
  {
   "cell_type": "code",
   "execution_count": 9,
   "metadata": {},
   "outputs": [
    {
     "name": "stdout",
     "output_type": "stream",
     "text": [
      "[[0 1 2 3 4]\n",
      " [5 6 7 8 9]]\n"
     ]
    }
   ],
   "source": [
    "arr = n.array([0, 1, 2, 3, 4, 5, 6, 7, 8, 9])\n",
    "arr_2d = n.reshape(arr, (2, 5))\n",
    "print(arr_2d)"
   ]
  },
  {
   "cell_type": "markdown",
   "metadata": {},
   "source": [
    "# Questions 5:\n",
    "Consider two square numpy arrays. Stack them vertically and horizontally.\n",
    "Hint: Use vstack(), hstack()"
   ]
  },
  {
   "cell_type": "code",
   "execution_count": 21,
   "metadata": {},
   "outputs": [
    {
     "name": "stdout",
     "output_type": "stream",
     "text": [
      "Vertical :\n",
      "  [[1 2]\n",
      " [3 4]\n",
      " [5 6]\n",
      " [7 8]]\n",
      "-------\n",
      "Horizontal : \n",
      " [[1 2 5 6]\n",
      " [3 4 7 8]]\n"
     ]
    }
   ],
   "source": [
    "a = n.array([[1, 2], \n",
    "              [3, 4]]) \n",
    "  \n",
    "b = n.array([[5, 6], \n",
    "              [7, 8]]) \n",
    "  \n",
    "# vertical stacking \n",
    "print(\"Vertical :\\n \",n.vstack((a, b)))\n",
    "print(\"-------\")\n",
    "# horizontal stacking \n",
    "print(\"Horizontal : \\n\",n.hstack((a,b)))"
   ]
  },
  {
   "cell_type": "markdown",
   "metadata": {},
   "source": [
    "# Questions 6:\n",
    "How to get unique items and counts of unique items?"
   ]
  },
  {
   "cell_type": "code",
   "execution_count": 11,
   "metadata": {},
   "outputs": [
    {
     "name": "stdout",
     "output_type": "stream",
     "text": [
      "{1, 2, 4, 5, 8}\n",
      "No of unique items in the list are: 5\n"
     ]
    }
   ],
   "source": [
    "input_list = [1, 2, 2, 5, 8, 4, 4, 8] \n",
    "  \n",
    "new_set = set(input_list) \n",
    "print(new_set)\n",
    "print(\"No of unique items in the list are:\", len(new_set))"
   ]
  },
  {
   "cell_type": "code",
   "execution_count": null,
   "metadata": {},
   "outputs": [],
   "source": []
  }
 ],
 "metadata": {
  "kernelspec": {
   "display_name": "Python 3",
   "language": "python",
   "name": "python3"
  },
  "language_info": {
   "codemirror_mode": {
    "name": "ipython",
    "version": 3
   },
   "file_extension": ".py",
   "mimetype": "text/x-python",
   "name": "python",
   "nbconvert_exporter": "python",
   "pygments_lexer": "ipython3",
   "version": "3.8.5"
  }
 },
 "nbformat": 4,
 "nbformat_minor": 4
}
